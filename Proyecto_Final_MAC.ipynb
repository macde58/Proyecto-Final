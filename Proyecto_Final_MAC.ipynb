{
  "nbformat": 4,
  "nbformat_minor": 0,
  "metadata": {
    "colab": {
      "name": "Proyecto Final MAC.ipynb",
      "provenance": [],
      "collapsed_sections": [],
      "toc_visible": true,
      "authorship_tag": "ABX9TyOQBlUNn327PtnHEQQqC8pB",
      "include_colab_link": true
    },
    "kernelspec": {
      "name": "python3",
      "display_name": "Python 3"
    },
    "language_info": {
      "name": "python"
    }
  },
  "cells": [
    {
      "cell_type": "markdown",
      "metadata": {
        "id": "view-in-github",
        "colab_type": "text"
      },
      "source": [
        "<a href=\"https://colab.research.google.com/github/macde58/Proyecto-Final/blob/main/Proyecto_Final_MAC.ipynb\" target=\"_parent\"><img src=\"https://colab.research.google.com/assets/colab-badge.svg\" alt=\"Open In Colab\"/></a>"
      ]
    },
    {
      "cell_type": "markdown",
      "metadata": {
        "id": "Wyedq7GCmrnL"
      },
      "source": [
        " PROYECTO FINAL  - PREDICCION DE PRECIOS DE CASAS \n",
        "#-----------------------------------------------------\n",
        "\n",
        "## Miguel Angel Cardona de la Rosa\n",
        "## Canet 08001084"
      ]
    },
    {
      "cell_type": "markdown",
      "metadata": {
        "id": "wuvRq1RrnDrO"
      },
      "source": [
        "**IMPORTACION DE LIBRERIAS**\n",
        "### se cargan las librerias autolizadas a usar durante el proyecto\n"
      ]
    },
    {
      "cell_type": "code",
      "metadata": {
        "id": "9Slk1kYCno8B"
      },
      "source": [
        "import numpy as np\n",
        "import pandas as pd\n",
        "import matplotlib.pyplot as plt"
      ],
      "execution_count": 2,
      "outputs": []
    },
    {
      "cell_type": "code",
      "metadata": {
        "id": "a9Qyb6ixnpyE"
      },
      "source": [
        "import seaborn as sns"
      ],
      "execution_count": 4,
      "outputs": []
    },
    {
      "cell_type": "markdown",
      "metadata": {
        "id": "ePKruHaFo4yp"
      },
      "source": [
        "**CARGA DE DATA**\n",
        "\n",
        " Se carga a la estructura de este proyecto  el dataset dado para el proyecto"
      ]
    },
    {
      "cell_type": "code",
      "metadata": {
        "colab": {
          "base_uri": "https://localhost:8080/"
        },
        "id": "Q2zcJ3_pnzOA",
        "outputId": "2a9623a6-5ea0-46d7-87a4-548966737cd8"
      },
      "source": [
        "datafile = \"proyecto_training_data.npy\"\n",
        "data= np.load(datafile)\n",
        "print(data)"
      ],
      "execution_count": 6,
      "outputs": [
        {
          "output_type": "stream",
          "text": [
            "[[2.08500e+05 7.00000e+00 8.56000e+02 8.00000e+00 2.00300e+03 6.50000e+01]\n",
            " [1.81500e+05 6.00000e+00 1.26200e+03 6.00000e+00 1.97600e+03 8.00000e+01]\n",
            " [2.23500e+05 7.00000e+00 9.20000e+02 6.00000e+00 2.00100e+03 6.80000e+01]\n",
            " ...\n",
            " [2.66500e+05 7.00000e+00 1.18800e+03 9.00000e+00 1.94100e+03 6.60000e+01]\n",
            " [1.42125e+05 5.00000e+00 1.07800e+03 5.00000e+00 1.95000e+03 6.80000e+01]\n",
            " [1.47500e+05 5.00000e+00 1.25600e+03 6.00000e+00 1.96500e+03 7.50000e+01]]\n"
          ],
          "name": "stdout"
        }
      ]
    },
    {
      "cell_type": "markdown",
      "metadata": {
        "id": "RR3p9IezykoR"
      },
      "source": [
        "**EXPLORACION DEL DATASET**\n",
        "\n",
        "Se explora el dataset, validando su tipo de datos, shape y los valores nan que posea"
      ]
    },
    {
      "cell_type": "code",
      "metadata": {
        "colab": {
          "base_uri": "https://localhost:8080/"
        },
        "id": "0hQrAyKCoas0",
        "outputId": "c11cb316-daad-4a06-c885-57a54fc6ab37"
      },
      "source": [
        "print(\"INFORMACION DEL DATASET\")\n",
        "print(\"Shape:       \", data.shape)\n",
        "print(\"Tipo:        \", type(data))\n",
        "print(\"Valores Nan:  \", np.isnan(data).sum())"
      ],
      "execution_count": 7,
      "outputs": [
        {
          "output_type": "stream",
          "text": [
            "INFORMACION DEL DATASET\n",
            "Shape:        (1460, 6)\n",
            "Tipo:         <class 'numpy.ndarray'>\n",
            "Valores Nan:   259\n"
          ],
          "name": "stdout"
        }
      ]
    },
    {
      "cell_type": "markdown",
      "metadata": {
        "id": "dbP_Gyo1dHpm"
      },
      "source": [
        "**LIMIPIEZA DEL DATASET**\n",
        "\n",
        "En el paso anterior se determina que la estructura contiene 259 valoron \"nan\" , por lo que el siguiente paso se reasigan\n",
        "\n",
        "\n"
      ]
    },
    {
      "cell_type": "code",
      "metadata": {
        "id": "zYD76Q08z0OX"
      },
      "source": [
        "data=data[~np.isnan(data).any(axis=1)]"
      ],
      "execution_count": 8,
      "outputs": []
    },
    {
      "cell_type": "code",
      "metadata": {
        "colab": {
          "base_uri": "https://localhost:8080/"
        },
        "id": "ZFe9Er-QfaaW",
        "outputId": "fd6126dd-4c0a-42d8-cba6-1ed2a19d7087"
      },
      "source": [
        "print(\"INFORMACION DEL DATASET\")\n",
        "print(\"Shape:       \", data.shape)\n",
        "print(\"Tipo:        \", type(data))\n",
        "print(\"Valores Nan:  \", np.isnan(data).sum())"
      ],
      "execution_count": 9,
      "outputs": [
        {
          "output_type": "stream",
          "text": [
            "INFORMACION DEL DATASET\n",
            "Shape:        (1201, 6)\n",
            "Tipo:         <class 'numpy.ndarray'>\n",
            "Valores Nan:   0\n"
          ],
          "name": "stdout"
        }
      ]
    },
    {
      "cell_type": "markdown",
      "metadata": {
        "id": "dXF9Hp7JjgL5"
      },
      "source": [
        "**EXPLORACION  DATAFRAME COMPLETO**\n",
        "\n",
        "Ya habiendo reemplazado todos los datos nan, se utiliza esta estructura para presentar los datos solicitados que son:\n",
        "\n",
        "\n",
        "*   Media\n",
        "*   Max\n",
        "*   Min\n",
        "*   Deviacion Estandar \n",
        "*   Rango\n",
        "\n"
      ]
    },
    {
      "cell_type": "code",
      "metadata": {
        "colab": {
          "base_uri": "https://localhost:8080/",
          "height": 419
        },
        "id": "yBqYEJnUfcfQ",
        "outputId": "9eff496a-d867-4d01-a3a2-728fd92b0228"
      },
      "source": [
        "## usando pandas para convertir lo s datos \n",
        "columnas = [\"SalePrice\",\"OverallQual\",\"1stFlrSF\",\"TotRmsAbvGrd\",\"YearBuilt\",\"LotFrontage\"]\n",
        "data_frame =pd.DataFrame(data,columns=columnas)\n",
        "data_frame\n"
      ],
      "execution_count": 10,
      "outputs": [
        {
          "output_type": "execute_result",
          "data": {
            "text/html": [
              "<div>\n",
              "<style scoped>\n",
              "    .dataframe tbody tr th:only-of-type {\n",
              "        vertical-align: middle;\n",
              "    }\n",
              "\n",
              "    .dataframe tbody tr th {\n",
              "        vertical-align: top;\n",
              "    }\n",
              "\n",
              "    .dataframe thead th {\n",
              "        text-align: right;\n",
              "    }\n",
              "</style>\n",
              "<table border=\"1\" class=\"dataframe\">\n",
              "  <thead>\n",
              "    <tr style=\"text-align: right;\">\n",
              "      <th></th>\n",
              "      <th>SalePrice</th>\n",
              "      <th>OverallQual</th>\n",
              "      <th>1stFlrSF</th>\n",
              "      <th>TotRmsAbvGrd</th>\n",
              "      <th>YearBuilt</th>\n",
              "      <th>LotFrontage</th>\n",
              "    </tr>\n",
              "  </thead>\n",
              "  <tbody>\n",
              "    <tr>\n",
              "      <th>0</th>\n",
              "      <td>208500.0</td>\n",
              "      <td>7.0</td>\n",
              "      <td>856.0</td>\n",
              "      <td>8.0</td>\n",
              "      <td>2003.0</td>\n",
              "      <td>65.0</td>\n",
              "    </tr>\n",
              "    <tr>\n",
              "      <th>1</th>\n",
              "      <td>181500.0</td>\n",
              "      <td>6.0</td>\n",
              "      <td>1262.0</td>\n",
              "      <td>6.0</td>\n",
              "      <td>1976.0</td>\n",
              "      <td>80.0</td>\n",
              "    </tr>\n",
              "    <tr>\n",
              "      <th>2</th>\n",
              "      <td>223500.0</td>\n",
              "      <td>7.0</td>\n",
              "      <td>920.0</td>\n",
              "      <td>6.0</td>\n",
              "      <td>2001.0</td>\n",
              "      <td>68.0</td>\n",
              "    </tr>\n",
              "    <tr>\n",
              "      <th>3</th>\n",
              "      <td>140000.0</td>\n",
              "      <td>7.0</td>\n",
              "      <td>961.0</td>\n",
              "      <td>7.0</td>\n",
              "      <td>1915.0</td>\n",
              "      <td>60.0</td>\n",
              "    </tr>\n",
              "    <tr>\n",
              "      <th>4</th>\n",
              "      <td>250000.0</td>\n",
              "      <td>8.0</td>\n",
              "      <td>1145.0</td>\n",
              "      <td>9.0</td>\n",
              "      <td>2000.0</td>\n",
              "      <td>84.0</td>\n",
              "    </tr>\n",
              "    <tr>\n",
              "      <th>...</th>\n",
              "      <td>...</td>\n",
              "      <td>...</td>\n",
              "      <td>...</td>\n",
              "      <td>...</td>\n",
              "      <td>...</td>\n",
              "      <td>...</td>\n",
              "    </tr>\n",
              "    <tr>\n",
              "      <th>1196</th>\n",
              "      <td>175000.0</td>\n",
              "      <td>6.0</td>\n",
              "      <td>953.0</td>\n",
              "      <td>7.0</td>\n",
              "      <td>1999.0</td>\n",
              "      <td>62.0</td>\n",
              "    </tr>\n",
              "    <tr>\n",
              "      <th>1197</th>\n",
              "      <td>210000.0</td>\n",
              "      <td>6.0</td>\n",
              "      <td>2073.0</td>\n",
              "      <td>7.0</td>\n",
              "      <td>1978.0</td>\n",
              "      <td>85.0</td>\n",
              "    </tr>\n",
              "    <tr>\n",
              "      <th>1198</th>\n",
              "      <td>266500.0</td>\n",
              "      <td>7.0</td>\n",
              "      <td>1188.0</td>\n",
              "      <td>9.0</td>\n",
              "      <td>1941.0</td>\n",
              "      <td>66.0</td>\n",
              "    </tr>\n",
              "    <tr>\n",
              "      <th>1199</th>\n",
              "      <td>142125.0</td>\n",
              "      <td>5.0</td>\n",
              "      <td>1078.0</td>\n",
              "      <td>5.0</td>\n",
              "      <td>1950.0</td>\n",
              "      <td>68.0</td>\n",
              "    </tr>\n",
              "    <tr>\n",
              "      <th>1200</th>\n",
              "      <td>147500.0</td>\n",
              "      <td>5.0</td>\n",
              "      <td>1256.0</td>\n",
              "      <td>6.0</td>\n",
              "      <td>1965.0</td>\n",
              "      <td>75.0</td>\n",
              "    </tr>\n",
              "  </tbody>\n",
              "</table>\n",
              "<p>1201 rows × 6 columns</p>\n",
              "</div>"
            ],
            "text/plain": [
              "      SalePrice  OverallQual  1stFlrSF  TotRmsAbvGrd  YearBuilt  LotFrontage\n",
              "0      208500.0          7.0     856.0           8.0     2003.0         65.0\n",
              "1      181500.0          6.0    1262.0           6.0     1976.0         80.0\n",
              "2      223500.0          7.0     920.0           6.0     2001.0         68.0\n",
              "3      140000.0          7.0     961.0           7.0     1915.0         60.0\n",
              "4      250000.0          8.0    1145.0           9.0     2000.0         84.0\n",
              "...         ...          ...       ...           ...        ...          ...\n",
              "1196   175000.0          6.0     953.0           7.0     1999.0         62.0\n",
              "1197   210000.0          6.0    2073.0           7.0     1978.0         85.0\n",
              "1198   266500.0          7.0    1188.0           9.0     1941.0         66.0\n",
              "1199   142125.0          5.0    1078.0           5.0     1950.0         68.0\n",
              "1200   147500.0          5.0    1256.0           6.0     1965.0         75.0\n",
              "\n",
              "[1201 rows x 6 columns]"
            ]
          },
          "metadata": {
            "tags": []
          },
          "execution_count": 10
        }
      ]
    },
    {
      "cell_type": "code",
      "metadata": {
        "colab": {
          "base_uri": "https://localhost:8080/",
          "height": 297
        },
        "id": "0Otlcl9YkNbT",
        "outputId": "3ed0e54e-ad4e-4d87-8a49-387a6fdf5ad2"
      },
      "source": [
        "## Analisis estadistico\n",
        "data_frame.describe()"
      ],
      "execution_count": 11,
      "outputs": [
        {
          "output_type": "execute_result",
          "data": {
            "text/html": [
              "<div>\n",
              "<style scoped>\n",
              "    .dataframe tbody tr th:only-of-type {\n",
              "        vertical-align: middle;\n",
              "    }\n",
              "\n",
              "    .dataframe tbody tr th {\n",
              "        vertical-align: top;\n",
              "    }\n",
              "\n",
              "    .dataframe thead th {\n",
              "        text-align: right;\n",
              "    }\n",
              "</style>\n",
              "<table border=\"1\" class=\"dataframe\">\n",
              "  <thead>\n",
              "    <tr style=\"text-align: right;\">\n",
              "      <th></th>\n",
              "      <th>SalePrice</th>\n",
              "      <th>OverallQual</th>\n",
              "      <th>1stFlrSF</th>\n",
              "      <th>TotRmsAbvGrd</th>\n",
              "      <th>YearBuilt</th>\n",
              "      <th>LotFrontage</th>\n",
              "    </tr>\n",
              "  </thead>\n",
              "  <tbody>\n",
              "    <tr>\n",
              "      <th>count</th>\n",
              "      <td>1201.000000</td>\n",
              "      <td>1201.000000</td>\n",
              "      <td>1201.000000</td>\n",
              "      <td>1201.000000</td>\n",
              "      <td>1201.000000</td>\n",
              "      <td>1201.000000</td>\n",
              "    </tr>\n",
              "    <tr>\n",
              "      <th>mean</th>\n",
              "      <td>180770.480433</td>\n",
              "      <td>6.122398</td>\n",
              "      <td>1158.437968</td>\n",
              "      <td>6.535387</td>\n",
              "      <td>1970.580350</td>\n",
              "      <td>70.049958</td>\n",
              "    </tr>\n",
              "    <tr>\n",
              "      <th>std</th>\n",
              "      <td>83389.519866</td>\n",
              "      <td>1.419216</td>\n",
              "      <td>386.257235</td>\n",
              "      <td>1.629608</td>\n",
              "      <td>31.750335</td>\n",
              "      <td>24.284752</td>\n",
              "    </tr>\n",
              "    <tr>\n",
              "      <th>min</th>\n",
              "      <td>34900.000000</td>\n",
              "      <td>1.000000</td>\n",
              "      <td>334.000000</td>\n",
              "      <td>2.000000</td>\n",
              "      <td>1872.000000</td>\n",
              "      <td>21.000000</td>\n",
              "    </tr>\n",
              "    <tr>\n",
              "      <th>25%</th>\n",
              "      <td>127500.000000</td>\n",
              "      <td>5.000000</td>\n",
              "      <td>876.000000</td>\n",
              "      <td>5.000000</td>\n",
              "      <td>1950.000000</td>\n",
              "      <td>59.000000</td>\n",
              "    </tr>\n",
              "    <tr>\n",
              "      <th>50%</th>\n",
              "      <td>159500.000000</td>\n",
              "      <td>6.000000</td>\n",
              "      <td>1082.000000</td>\n",
              "      <td>6.000000</td>\n",
              "      <td>1972.000000</td>\n",
              "      <td>69.000000</td>\n",
              "    </tr>\n",
              "    <tr>\n",
              "      <th>75%</th>\n",
              "      <td>213500.000000</td>\n",
              "      <td>7.000000</td>\n",
              "      <td>1383.000000</td>\n",
              "      <td>7.000000</td>\n",
              "      <td>2003.000000</td>\n",
              "      <td>80.000000</td>\n",
              "    </tr>\n",
              "    <tr>\n",
              "      <th>max</th>\n",
              "      <td>755000.000000</td>\n",
              "      <td>10.000000</td>\n",
              "      <td>4692.000000</td>\n",
              "      <td>14.000000</td>\n",
              "      <td>2010.000000</td>\n",
              "      <td>313.000000</td>\n",
              "    </tr>\n",
              "  </tbody>\n",
              "</table>\n",
              "</div>"
            ],
            "text/plain": [
              "           SalePrice  OverallQual  ...    YearBuilt  LotFrontage\n",
              "count    1201.000000  1201.000000  ...  1201.000000  1201.000000\n",
              "mean   180770.480433     6.122398  ...  1970.580350    70.049958\n",
              "std     83389.519866     1.419216  ...    31.750335    24.284752\n",
              "min     34900.000000     1.000000  ...  1872.000000    21.000000\n",
              "25%    127500.000000     5.000000  ...  1950.000000    59.000000\n",
              "50%    159500.000000     6.000000  ...  1972.000000    69.000000\n",
              "75%    213500.000000     7.000000  ...  2003.000000    80.000000\n",
              "max    755000.000000    10.000000  ...  2010.000000   313.000000\n",
              "\n",
              "[8 rows x 6 columns]"
            ]
          },
          "metadata": {
            "tags": []
          },
          "execution_count": 11
        }
      ]
    },
    {
      "cell_type": "code",
      "metadata": {
        "id": "VBMiMINplM0j"
      },
      "source": [
        ""
      ],
      "execution_count": null,
      "outputs": []
    }
  ]
}